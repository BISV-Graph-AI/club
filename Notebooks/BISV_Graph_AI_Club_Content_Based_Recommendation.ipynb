{
  "cells": [
    {
      "cell_type": "markdown",
      "metadata": {
        "id": "ivF8SZSSG8pL"
      },
      "source": [
        "## Install/Import Libraries\n"
      ]
    },
    {
      "cell_type": "code",
      "execution_count": null,
      "metadata": {
        "collapsed": true,
        "id": "CYOUCE-TG8pQ",
        "colab": {
          "base_uri": "https://localhost:8080/"
        },
        "outputId": "7395618d-eaaa-4002-902a-f96d212b7b57"
      },
      "outputs": [
        {
          "output_type": "stream",
          "name": "stdout",
          "text": [
            "Requirement already satisfied: scikit-learn in /usr/local/lib/python3.7/dist-packages (1.0.1)\n",
            "Requirement already satisfied: joblib>=0.11 in /usr/local/lib/python3.7/dist-packages (from scikit-learn) (1.1.0)\n",
            "Requirement already satisfied: numpy>=1.14.6 in /usr/local/lib/python3.7/dist-packages (from scikit-learn) (1.19.5)\n",
            "Requirement already satisfied: scipy>=1.1.0 in /usr/local/lib/python3.7/dist-packages (from scikit-learn) (1.4.1)\n",
            "Requirement already satisfied: threadpoolctl>=2.0.0 in /usr/local/lib/python3.7/dist-packages (from scikit-learn) (3.0.0)\n"
          ]
        }
      ],
      "source": [
        "!pip install scikit-learn"
      ]
    },
    {
      "cell_type": "code",
      "source": [
        "import pandas as pd\n",
        "import numpy as np\n",
        "import matplotlib.pyplot as plt\n",
        "\n",
        "# Term Frequency-Inverse Document Frequency (TF-IDF), a feature extraction used in Natural Language Processing (NLP)\n",
        "# to evaluate how important a word is within the corpus.\n",
        "from sklearn.feature_extraction.text import TfidfVectorizer\n",
        "from sklearn.metrics.pairwise import cosine_similarity"
      ],
      "metadata": {
        "id": "ijkBkLQtJCHw"
      },
      "execution_count": null,
      "outputs": []
    },
    {
      "cell_type": "code",
      "execution_count": null,
      "metadata": {
        "collapsed": true,
        "id": "iU2uUsjtG8pR"
      },
      "outputs": [],
      "source": [
        "# Use Pandas load movie CSV\n",
        "movies = pd.read_csv('https://data.neo4j.com/intro/movies/movies.csv')"
      ]
    },
    {
      "cell_type": "code",
      "execution_count": null,
      "metadata": {
        "id": "7Eyxti7yG8pS",
        "outputId": "354652fe-44ad-4963-dcf4-0ed4dc56c0ac",
        "colab": {
          "base_uri": "https://localhost:8080/",
          "height": 204
        }
      },
      "outputs": [
        {
          "output_type": "execute_result",
          "data": {
            "text/html": [
              "<div>\n",
              "<style scoped>\n",
              "    .dataframe tbody tr th:only-of-type {\n",
              "        vertical-align: middle;\n",
              "    }\n",
              "\n",
              "    .dataframe tbody tr th {\n",
              "        vertical-align: top;\n",
              "    }\n",
              "\n",
              "    .dataframe thead th {\n",
              "        text-align: right;\n",
              "    }\n",
              "</style>\n",
              "<table border=\"1\" class=\"dataframe\">\n",
              "  <thead>\n",
              "    <tr style=\"text-align: right;\">\n",
              "      <th></th>\n",
              "      <th>title</th>\n",
              "      <th>released</th>\n",
              "      <th>tagline</th>\n",
              "    </tr>\n",
              "  </thead>\n",
              "  <tbody>\n",
              "    <tr>\n",
              "      <th>0</th>\n",
              "      <td>The Matrix</td>\n",
              "      <td>1999</td>\n",
              "      <td>Welcome to the Real World</td>\n",
              "    </tr>\n",
              "    <tr>\n",
              "      <th>1</th>\n",
              "      <td>Something's Gotta Give</td>\n",
              "      <td>1975</td>\n",
              "      <td>NaN</td>\n",
              "    </tr>\n",
              "    <tr>\n",
              "      <th>2</th>\n",
              "      <td>Ninja Assassin</td>\n",
              "      <td>2009</td>\n",
              "      <td>Prepare to enter a secret world of assassins</td>\n",
              "    </tr>\n",
              "    <tr>\n",
              "      <th>3</th>\n",
              "      <td>The Matrix Reloaded</td>\n",
              "      <td>2003</td>\n",
              "      <td>Free your mind</td>\n",
              "    </tr>\n",
              "    <tr>\n",
              "      <th>4</th>\n",
              "      <td>Stand By Me</td>\n",
              "      <td>1995</td>\n",
              "      <td>For some, it's the last real taste of innocenc...</td>\n",
              "    </tr>\n",
              "  </tbody>\n",
              "</table>\n",
              "</div>"
            ],
            "text/plain": [
              "                    title  ...                                            tagline\n",
              "0              The Matrix  ...                          Welcome to the Real World\n",
              "1  Something's Gotta Give  ...                                                NaN\n",
              "2          Ninja Assassin  ...       Prepare to enter a secret world of assassins\n",
              "3     The Matrix Reloaded  ...                                     Free your mind\n",
              "4             Stand By Me  ...  For some, it's the last real taste of innocenc...\n",
              "\n",
              "[5 rows x 3 columns]"
            ]
          },
          "metadata": {},
          "execution_count": 111
        }
      ],
      "source": [
        "# Display head rows\n",
        "movies.head()"
      ]
    },
    {
      "cell_type": "code",
      "source": [
        "# Display movie size\n",
        "print(movies.size)"
      ],
      "metadata": {
        "colab": {
          "base_uri": "https://localhost:8080/"
        },
        "id": "BenOCFuDlILy",
        "outputId": "7f27f366-b9fb-4c26-ad55-5cdaa947d6d7"
      },
      "execution_count": null,
      "outputs": [
        {
          "output_type": "stream",
          "name": "stdout",
          "text": [
            "114\n"
          ]
        }
      ]
    },
    {
      "cell_type": "code",
      "execution_count": null,
      "metadata": {
        "collapsed": true,
        "id": "16AJkFVAG8pT",
        "colab": {
          "base_uri": "https://localhost:8080/"
        },
        "outputId": "faa01606-ca3a-4adb-f061-29187084db95"
      },
      "outputs": [
        {
          "output_type": "stream",
          "name": "stdout",
          "text": [
            "<class 'pandas.core.series.Series'>\n"
          ]
        }
      ],
      "source": [
        "# Convert title and tag line to string value\n",
        "movies['title'] = movies['title'].fillna(\"\").astype('str')\n",
        "movies['tagline'] = movies['tagline'].fillna(\"\").astype('str')\n",
        "movies.head()\n",
        "\n",
        "# Set up title array\n",
        "titles = movies['title']"
      ]
    },
    {
      "cell_type": "markdown",
      "metadata": {
        "id": "HlSZ_NGfG8pY"
      },
      "source": [
        "# Recommend Movie Based on Title"
      ]
    },
    {
      "cell_type": "code",
      "execution_count": null,
      "metadata": {
        "id": "weQTL6XOG8pY",
        "outputId": "50186ff3-6a37-4008-e862-f8a4f5364a42",
        "colab": {
          "base_uri": "https://localhost:8080/"
        }
      },
      "outputs": [
        {
          "output_type": "stream",
          "name": "stdout",
          "text": [
            "The Matrix\n"
          ]
        }
      ],
      "source": [
        "# Convert the title in 2-gram words excluding the stopwords, for example 'a', 'and', 'the', and etc.\n",
        "tf = TfidfVectorizer(analyzer='word', ngram_range=(1, 2), min_df=0, stop_words='english')\n",
        "\n",
        "tfidf_matrix = tf.fit_transform(titles)\n",
        "tfidf_matrix.shape\n",
        "\n",
        "# Print out the first movie\n",
        "#print(tfidf_matrix)\n",
        "print(movies.loc[:].values[0][0])"
      ]
    },
    {
      "cell_type": "code",
      "source": [
        "![Cosine Similarity](\"https://neo4j.com/docs/graph-data-science/current/_images/cosine-similarity.png\")\n",
        "from IPython.display import Image\n",
        "from IPython.core.display import HTML \n",
        "Image(url= \"https://neo4j.com/docs/graph-data-science/current/_images/cosine-similarity.png\")"
      ],
      "metadata": {
        "colab": {
          "base_uri": "https://localhost:8080/",
          "height": 263
        },
        "id": "cKUB7l_ZvavK",
        "outputId": "f836d6ce-2aa9-4d3a-95a5-d41f104e7bfb"
      },
      "execution_count": null,
      "outputs": [
        {
          "output_type": "stream",
          "name": "stdout",
          "text": [
            "/bin/bash: -c: line 0: syntax error near unexpected token `('\n",
            "/bin/bash: -c: line 0: `[Cosine Similarity](\"https://neo4j.com/docs/graph-data-science/current/_images/cosine-similarity.png\")'\n"
          ]
        },
        {
          "output_type": "execute_result",
          "data": {
            "text/html": [
              "<img src=\"https://neo4j.com/docs/graph-data-science/current/_images/cosine-similarity.png\"/>"
            ],
            "text/plain": [
              "<IPython.core.display.Image object>"
            ]
          },
          "metadata": {},
          "execution_count": 119
        }
      ]
    },
    {
      "cell_type": "code",
      "execution_count": null,
      "metadata": {
        "id": "ivZ4OMGcG8pZ",
        "outputId": "718e2e9f-89fc-4247-b5b4-048842436007",
        "colab": {
          "base_uri": "https://localhost:8080/"
        }
      },
      "outputs": [
        {
          "output_type": "stream",
          "name": "stdout",
          "text": [
            "[1.         0.         0.         0.50408245 0.         0.\n",
            " 0.         0.         0.         0.         0.         0.\n",
            " 0.         0.         0.         0.         0.         0.\n",
            " 0.         0.         0.         0.         0.         0.\n",
            " 0.         0.         0.         0.         0.         0.\n",
            " 0.50408245 0.         0.         0.         0.         0.\n",
            " 0.         0.        ]\n"
          ]
        }
      ],
      "source": [
        "# Calculate Cosine similarity score from vector\n",
        "cosine_similarity_mx = cosine_similarity(tfidf_matrix, tfidf_matrix)\n",
        "cosine_similarity_mx[:8, :8]\n",
        "print(cosine_similarity_mx[0])"
      ]
    },
    {
      "cell_type": "code",
      "execution_count": null,
      "metadata": {
        "collapsed": true,
        "id": "Cq327NB0G8pZ"
      },
      "outputs": [],
      "source": [
        "# Build a one-dimension Pandas series with movie titles\n",
        "indices = pd.Series(movies.index, index=titles)\n",
        "#print(indices)\n",
        "\n",
        "# Function that get movie recommendations based on the cosine similarity score of movie genres\n",
        "def recommend_movie_by_title(title, number_of_movie):\n",
        "    idx = indices[title]\n",
        "    #print(str(cosine_similarity_mx[idx].size))\n",
        "    # Get Cosine similarity score from numpy into a list\n",
        "    # [(0, 1.0), (1, 0.0), (2, 0.0), (3, 0.5040824532793767), (30, 0.5040824532793767), ...]\n",
        "    similarity_scores = list(enumerate(cosine_similarity_mx[idx]))\n",
        "\n",
        "    # Sort the score (ss[1]) in reversed order\n",
        "    # [(0, 1.0)\n",
        "    # (3, 0.5040824532793767)\n",
        "    # (30, 0.5040824532793767) ...]\n",
        "    similarity_scores = sorted(similarity_scores, key=lambda ss: ss[1], reverse=True)\n",
        "\n",
        "    # The top one is the movie itself, remove it\n",
        "    # [\n",
        "    # (3, 0.5040824532793767)\n",
        "    # (30, 0.5040824532793767) ...]\n",
        "    similarity_scores = similarity_scores[1:number_of_movie]\n",
        "\n",
        "    # Get the movie indeces (ss[0]) from similarity score\n",
        "    movie_indices = [ss[0] for ss in similarity_scores]\n",
        "    return titles.iloc[movie_indices]"
      ]
    },
    {
      "cell_type": "code",
      "execution_count": null,
      "metadata": {
        "id": "Za-i09PgG8pa",
        "outputId": "b4e1ea82-3cad-4bb8-f8be-382a6ba91dbf",
        "colab": {
          "base_uri": "https://localhost:8080/"
        }
      },
      "outputs": [
        {
          "output_type": "execute_result",
          "data": {
            "text/plain": [
              "3        The Matrix Reloaded\n",
              "30    The Matrix Revolutions\n",
              "1     Something's Gotta Give\n",
              "2             Ninja Assassin\n",
              "Name: title, dtype: object"
            ]
          },
          "metadata": {},
          "execution_count": 117
        }
      ],
      "source": [
        "recommend_movie_by_title('The Matrix', 5).head(5)"
      ]
    }
  ],
  "metadata": {
    "kernelspec": {
      "display_name": "Python 3",
      "language": "python",
      "name": "python3"
    },
    "language_info": {
      "codemirror_mode": {
        "name": "ipython",
        "version": 3
      },
      "file_extension": ".py",
      "mimetype": "text/x-python",
      "name": "python",
      "nbconvert_exporter": "python",
      "pygments_lexer": "ipython3",
      "version": "3.6.3"
    },
    "colab": {
      "name": "BISV-Graph-AI-Club-Content-Based-Recommendation.ipynb",
      "provenance": [],
      "collapsed_sections": []
    }
  },
  "nbformat": 4,
  "nbformat_minor": 0
}