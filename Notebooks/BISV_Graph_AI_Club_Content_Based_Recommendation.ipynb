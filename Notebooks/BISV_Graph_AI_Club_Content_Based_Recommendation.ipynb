{
  "cells": [
    {
      "cell_type": "markdown",
      "metadata": {
        "id": "ivF8SZSSG8pL"
      },
      "source": [
        "## Install/Import Libraries\n"
      ]
    },
    {
      "cell_type": "code",
      "execution_count": null,
      "metadata": {
        "collapsed": true,
        "id": "CYOUCE-TG8pQ",
        "colab": {
          "base_uri": "https://localhost:8080/"
        },
        "outputId": "7395618d-eaaa-4002-902a-f96d212b7b57"
      },
      "outputs": [
        {
          "output_type": "stream",
          "name": "stdout",
          "text": [
            "Requirement already satisfied: scikit-learn in /usr/local/lib/python3.7/dist-packages (1.0.1)\n",
            "Requirement already satisfied: joblib>=0.11 in /usr/local/lib/python3.7/dist-packages (from scikit-learn) (1.1.0)\n",
            "Requirement already satisfied: numpy>=1.14.6 in /usr/local/lib/python3.7/dist-packages (from scikit-learn) (1.19.5)\n",
            "Requirement already satisfied: scipy>=1.1.0 in /usr/local/lib/python3.7/dist-packages (from scikit-learn) (1.4.1)\n",
            "Requirement already satisfied: threadpoolctl>=2.0.0 in /usr/local/lib/python3.7/dist-packages (from scikit-learn) (3.0.0)\n"
          ]
        }
      ],
      "source": [
        "!pip install scikit-learn"
      ]
    },
    {
      "cell_type": "code",
      "source": [
        "# Google Colab's interactive table\n",
        "from google.colab import data_table\n",
        "data_table.enable_dataframe_formatter()"
      ],
      "metadata": {
        "id": "0OYJx6FZIy0z"
      },
      "execution_count": null,
      "outputs": []
    },
    {
      "cell_type": "code",
      "source": [
        "# Explore the sample dataset\n",
        "#from vega_datasets import data\n",
        "#cars = data.cars()\n",
        "#cars"
      ],
      "metadata": {
        "id": "2egbWaNeI8KA"
      },
      "execution_count": null,
      "outputs": []
    },
    {
      "cell_type": "code",
      "source": [
        "import pandas as pd\n",
        "import numpy as np\n",
        "import matplotlib.pyplot as plt\n",
        "\n",
        "# Term Frequency-Inverse Document Frequency (TF-IDF), a feature extraction used in Natural Language Processing (NLP)\n",
        "# to evaluate how important a word is within the corpus.\n",
        "from sklearn.feature_extraction.text import TfidfVectorizer\n",
        "from sklearn.metrics.pairwise import cosine_similarity"
      ],
      "metadata": {
        "id": "ijkBkLQtJCHw"
      },
      "execution_count": null,
      "outputs": []
    },
    {
      "cell_type": "code",
      "execution_count": null,
      "metadata": {
        "collapsed": true,
        "id": "iU2uUsjtG8pR",
        "outputId": "bfaf050e-86ca-46ff-c4bb-b347058f0c71",
        "colab": {
          "base_uri": "https://localhost:8080/",
          "height": 760
        }
      },
      "outputs": [
        {
          "output_type": "execute_result",
          "data": {
            "application/vnd.google.colaboratory.module+javascript": "\n      import \"https://ssl.gstatic.com/colaboratory/data_table/a6224c040fa35dcf/data_table.js\";\n\n      window.createDataTable({\n        data: [[{\n            'v': 0,\n            'f': \"0\",\n        },\n\"The Matrix\",\n{\n            'v': 1999,\n            'f': \"1999\",\n        },\n\"Welcome to the Real World\"],\n [{\n            'v': 1,\n            'f': \"1\",\n        },\n\"Something's Gotta Give\",\n{\n            'v': 1975,\n            'f': \"1975\",\n        },\nNaN],\n [{\n            'v': 2,\n            'f': \"2\",\n        },\n\"Ninja Assassin\",\n{\n            'v': 2009,\n            'f': \"2009\",\n        },\n\"Prepare to enter a secret world of assassins\"],\n [{\n            'v': 3,\n            'f': \"3\",\n        },\n\"The Matrix Reloaded\",\n{\n            'v': 2003,\n            'f': \"2003\",\n        },\n\"Free your mind\"],\n [{\n            'v': 4,\n            'f': \"4\",\n        },\n\"Stand By Me\",\n{\n            'v': 1995,\n            'f': \"1995\",\n        },\n\"For some, it's the last real taste of innocence, and the first real taste of life. But for everyone, it's the time that memories are made of.\"],\n [{\n            'v': 5,\n            'f': \"5\",\n        },\n\"The Birdcage\",\n{\n            'v': 1996,\n            'f': \"1996\",\n        },\n\"Come as you are\"],\n [{\n            'v': 6,\n            'f': \"6\",\n        },\n\"Sleepless in Seattle\",\n{\n            'v': 1993,\n            'f': \"1993\",\n        },\n\"What if someone you never met, someone you never saw, someone you never knew was the only someone for you?\"],\n [{\n            'v': 7,\n            'f': \"7\",\n        },\n\"Charlie Wilson's War\",\n{\n            'v': 2007,\n            'f': \"2007\",\n        },\n\"A stiff drink. A little mascara. A lot of nerve. Who said they couldn't bring down the Soviet empire.\"],\n [{\n            'v': 8,\n            'f': \"8\",\n        },\n\"The Polar Express\",\n{\n            'v': 2004,\n            'f': \"2004\",\n        },\n\"This Holiday Season\\u2026 Believe\"],\n [{\n            'v': 9,\n            'f': \"9\",\n        },\n\"That Thing You Do\",\n{\n            'v': 1996,\n            'f': \"1996\",\n        },\n\"In every life there comes a time when that thing you dream becomes that thing you do\"],\n [{\n            'v': 10,\n            'f': \"10\",\n        },\n\"Snow Falling on Cedars\",\n{\n            'v': 1999,\n            'f': \"1999\",\n        },\n\"First loves last. Forever.\"],\n [{\n            'v': 11,\n            'f': \"11\",\n        },\n\"A Few Good Men\",\n{\n            'v': 1992,\n            'f': \"1992\",\n        },\n\"In the heart of the nation's capital, in a courthouse of the U.S. government, one man will stop at nothing to keep his honor, and one will stop at nothing to find the truth.\"],\n [{\n            'v': 12,\n            'f': \"12\",\n        },\n\"Twister\",\n{\n            'v': 1996,\n            'f': \"1996\",\n        },\n\"Don't Breathe. Don't Look Back.\"],\n [{\n            'v': 13,\n            'f': \"13\",\n        },\n\"Apollo 13\",\n{\n            'v': 1995,\n            'f': \"1995\",\n        },\n\"Houston, we have a problem.\"],\n [{\n            'v': 14,\n            'f': \"14\",\n        },\n\"Unforgiven\",\n{\n            'v': 1992,\n            'f': \"1992\",\n        },\n\"It's a hell of a thing, killing a man\"],\n [{\n            'v': 15,\n            'f': \"15\",\n        },\n\"Johnny Mnemonic\",\n{\n            'v': 1995,\n            'f': \"1995\",\n        },\n\"The hottest data on earth. In the coolest head in town\"],\n [{\n            'v': 16,\n            'f': \"16\",\n        },\n\"Cast Away\",\n{\n            'v': 2000,\n            'f': \"2000\",\n        },\n\"At the edge of the world, his journey begins.\"],\n [{\n            'v': 17,\n            'f': \"17\",\n        },\n\"Jerry Maguire\",\n{\n            'v': 2000,\n            'f': \"2000\",\n        },\n\"The rest of his life begins now.\"],\n [{\n            'v': 18,\n            'f': \"18\",\n        },\n\"When Harry Met Sally\",\n{\n            'v': 1998,\n            'f': \"1998\",\n        },\n\"At odds in life... in love on-line.\"],\n [{\n            'v': 19,\n            'f': \"19\",\n        },\n\"V for Vendetta\",\n{\n            'v': 2006,\n            'f': \"2006\",\n        },\n\"Freedom! Forever!\"],\n [{\n            'v': 20,\n            'f': \"20\",\n        },\n\"The Replacements\",\n{\n            'v': 2000,\n            'f': \"2000\",\n        },\n\"Pain heals, Chicks dig scars... Glory lasts forever\"],\n [{\n            'v': 21,\n            'f': \"21\",\n        },\n\"The Da Vinci Code\",\n{\n            'v': 2006,\n            'f': \"2006\",\n        },\n\"Break The Codes\"],\n [{\n            'v': 22,\n            'f': \"22\",\n        },\n\"Top Gun\",\n{\n            'v': 1986,\n            'f': \"1986\",\n        },\n\"I feel the need, the need for speed.\"],\n [{\n            'v': 23,\n            'f': \"23\",\n        },\n\"Joe Versus the Volcano\",\n{\n            'v': 1990,\n            'f': \"1990\",\n        },\n\"A story of love, lava and burning desire.\"],\n [{\n            'v': 24,\n            'f': \"24\",\n        },\n\"RescueDawn\",\n{\n            'v': 2006,\n            'f': \"2006\",\n        },\n\"Based on the extraordinary true story of one man's fight for freedom\"],\n [{\n            'v': 25,\n            'f': \"25\",\n        },\n\"What Dreams May Come\",\n{\n            'v': 1998,\n            'f': \"1998\",\n        },\n\"After life there is more. The end is just the beginning.\"],\n [{\n            'v': 26,\n            'f': \"26\",\n        },\n\"Speed Racer\",\n{\n            'v': 2008,\n            'f': \"2008\",\n        },\n\"Speed has no limits\"],\n [{\n            'v': 27,\n            'f': \"27\",\n        },\n\"One Flew Over the Cuckoo's Nest\",\n{\n            'v': 1975,\n            'f': \"1975\",\n        },\n\"If he's crazy, what does that make you?\"],\n [{\n            'v': 28,\n            'f': \"28\",\n        },\n\"The Green Mile\",\n{\n            'v': 1999,\n            'f': \"1999\",\n        },\n\"Walk a mile you'll never forget.\"],\n [{\n            'v': 29,\n            'f': \"29\",\n        },\n\"Frost/Nixon\",\n{\n            'v': 2008,\n            'f': \"2008\",\n        },\n\"400 million people were waiting for the truth.\"],\n [{\n            'v': 30,\n            'f': \"30\",\n        },\n\"The Matrix Revolutions\",\n{\n            'v': 2003,\n            'f': \"2003\",\n        },\n\"Everything that has a beginning has an end\"],\n [{\n            'v': 31,\n            'f': \"31\",\n        },\n\"The Devil's Advocate\",\n{\n            'v': 1997,\n            'f': \"1997\",\n        },\n\"Evil has its winning ways\"],\n [{\n            'v': 32,\n            'f': \"32\",\n        },\n\"A League of Their Own\",\n{\n            'v': 1992,\n            'f': \"1992\",\n        },\n\"Once in a lifetime you get a chance to do something different.\"],\n [{\n            'v': 33,\n            'f': \"33\",\n        },\n\"Cloud Atlas\",\n{\n            'v': 2012,\n            'f': \"2012\",\n        },\n\"Everything is connected\"],\n [{\n            'v': 34,\n            'f': \"34\",\n        },\n\"As Good as It Gets\",\n{\n            'v': 1997,\n            'f': \"1997\",\n        },\n\"A comedy from the heart that goes for the throat.\"],\n [{\n            'v': 35,\n            'f': \"35\",\n        },\n\"Bicentennial Man\",\n{\n            'v': 1999,\n            'f': \"1999\",\n        },\n\"One robot's 200 year journey to become an ordinary man.\"],\n [{\n            'v': 36,\n            'f': \"36\",\n        },\n\"You've Got Mail\",\n{\n            'v': 1998,\n            'f': \"1998\",\n        },\n\"At odds in life... in love on-line.\"],\n [{\n            'v': 37,\n            'f': \"37\",\n        },\n\"Hoffa\",\n{\n            'v': 1992,\n            'f': \"1992\",\n        },\n\"He didn't want law. He wanted justice.\"]],\n        columns: [[\"number\", \"index\"], [\"string\", \"title\"], [\"number\", \"released\"], [\"string\", \"tagline\"]],\n        columnOptions: [{\"width\": \"1px\", \"className\": \"index_column\"}],\n        rowsPerPage: 25,\n        helpUrl: \"https://colab.research.google.com/notebooks/data_table.ipynb\",\n        suppressOutputScrolling: true,\n        minimumWidth: undefined,\n      });\n    ",
            "text/html": [
              "\n",
              "  <div id=\"df-71abc6b3-7e58-4fce-a3a9-acaf00a359bb\">\n",
              "    <div class=\"colab-df-container\">\n",
              "      <div>\n",
              "<style scoped>\n",
              "    .dataframe tbody tr th:only-of-type {\n",
              "        vertical-align: middle;\n",
              "    }\n",
              "\n",
              "    .dataframe tbody tr th {\n",
              "        vertical-align: top;\n",
              "    }\n",
              "\n",
              "    .dataframe thead th {\n",
              "        text-align: right;\n",
              "    }\n",
              "</style>\n",
              "<table border=\"1\" class=\"dataframe\">\n",
              "  <thead>\n",
              "    <tr style=\"text-align: right;\">\n",
              "      <th></th>\n",
              "      <th>title</th>\n",
              "      <th>released</th>\n",
              "      <th>tagline</th>\n",
              "    </tr>\n",
              "  </thead>\n",
              "  <tbody>\n",
              "    <tr>\n",
              "      <th>0</th>\n",
              "      <td>The Matrix</td>\n",
              "      <td>1999</td>\n",
              "      <td>Welcome to the Real World</td>\n",
              "    </tr>\n",
              "    <tr>\n",
              "      <th>1</th>\n",
              "      <td>Something's Gotta Give</td>\n",
              "      <td>1975</td>\n",
              "      <td>NaN</td>\n",
              "    </tr>\n",
              "    <tr>\n",
              "      <th>2</th>\n",
              "      <td>Ninja Assassin</td>\n",
              "      <td>2009</td>\n",
              "      <td>Prepare to enter a secret world of assassins</td>\n",
              "    </tr>\n",
              "    <tr>\n",
              "      <th>3</th>\n",
              "      <td>The Matrix Reloaded</td>\n",
              "      <td>2003</td>\n",
              "      <td>Free your mind</td>\n",
              "    </tr>\n",
              "    <tr>\n",
              "      <th>4</th>\n",
              "      <td>Stand By Me</td>\n",
              "      <td>1995</td>\n",
              "      <td>For some, it's the last real taste of innocenc...</td>\n",
              "    </tr>\n",
              "    <tr>\n",
              "      <th>5</th>\n",
              "      <td>The Birdcage</td>\n",
              "      <td>1996</td>\n",
              "      <td>Come as you are</td>\n",
              "    </tr>\n",
              "    <tr>\n",
              "      <th>6</th>\n",
              "      <td>Sleepless in Seattle</td>\n",
              "      <td>1993</td>\n",
              "      <td>What if someone you never met, someone you nev...</td>\n",
              "    </tr>\n",
              "    <tr>\n",
              "      <th>7</th>\n",
              "      <td>Charlie Wilson's War</td>\n",
              "      <td>2007</td>\n",
              "      <td>A stiff drink. A little mascara. A lot of nerv...</td>\n",
              "    </tr>\n",
              "    <tr>\n",
              "      <th>8</th>\n",
              "      <td>The Polar Express</td>\n",
              "      <td>2004</td>\n",
              "      <td>This Holiday Season… Believe</td>\n",
              "    </tr>\n",
              "    <tr>\n",
              "      <th>9</th>\n",
              "      <td>That Thing You Do</td>\n",
              "      <td>1996</td>\n",
              "      <td>In every life there comes a time when that thi...</td>\n",
              "    </tr>\n",
              "    <tr>\n",
              "      <th>10</th>\n",
              "      <td>Snow Falling on Cedars</td>\n",
              "      <td>1999</td>\n",
              "      <td>First loves last. Forever.</td>\n",
              "    </tr>\n",
              "    <tr>\n",
              "      <th>11</th>\n",
              "      <td>A Few Good Men</td>\n",
              "      <td>1992</td>\n",
              "      <td>In the heart of the nation's capital, in a cou...</td>\n",
              "    </tr>\n",
              "    <tr>\n",
              "      <th>12</th>\n",
              "      <td>Twister</td>\n",
              "      <td>1996</td>\n",
              "      <td>Don't Breathe. Don't Look Back.</td>\n",
              "    </tr>\n",
              "    <tr>\n",
              "      <th>13</th>\n",
              "      <td>Apollo 13</td>\n",
              "      <td>1995</td>\n",
              "      <td>Houston, we have a problem.</td>\n",
              "    </tr>\n",
              "    <tr>\n",
              "      <th>14</th>\n",
              "      <td>Unforgiven</td>\n",
              "      <td>1992</td>\n",
              "      <td>It's a hell of a thing, killing a man</td>\n",
              "    </tr>\n",
              "    <tr>\n",
              "      <th>15</th>\n",
              "      <td>Johnny Mnemonic</td>\n",
              "      <td>1995</td>\n",
              "      <td>The hottest data on earth. In the coolest head...</td>\n",
              "    </tr>\n",
              "    <tr>\n",
              "      <th>16</th>\n",
              "      <td>Cast Away</td>\n",
              "      <td>2000</td>\n",
              "      <td>At the edge of the world, his journey begins.</td>\n",
              "    </tr>\n",
              "    <tr>\n",
              "      <th>17</th>\n",
              "      <td>Jerry Maguire</td>\n",
              "      <td>2000</td>\n",
              "      <td>The rest of his life begins now.</td>\n",
              "    </tr>\n",
              "    <tr>\n",
              "      <th>18</th>\n",
              "      <td>When Harry Met Sally</td>\n",
              "      <td>1998</td>\n",
              "      <td>At odds in life... in love on-line.</td>\n",
              "    </tr>\n",
              "    <tr>\n",
              "      <th>19</th>\n",
              "      <td>V for Vendetta</td>\n",
              "      <td>2006</td>\n",
              "      <td>Freedom! Forever!</td>\n",
              "    </tr>\n",
              "    <tr>\n",
              "      <th>20</th>\n",
              "      <td>The Replacements</td>\n",
              "      <td>2000</td>\n",
              "      <td>Pain heals, Chicks dig scars... Glory lasts fo...</td>\n",
              "    </tr>\n",
              "    <tr>\n",
              "      <th>21</th>\n",
              "      <td>The Da Vinci Code</td>\n",
              "      <td>2006</td>\n",
              "      <td>Break The Codes</td>\n",
              "    </tr>\n",
              "    <tr>\n",
              "      <th>22</th>\n",
              "      <td>Top Gun</td>\n",
              "      <td>1986</td>\n",
              "      <td>I feel the need, the need for speed.</td>\n",
              "    </tr>\n",
              "    <tr>\n",
              "      <th>23</th>\n",
              "      <td>Joe Versus the Volcano</td>\n",
              "      <td>1990</td>\n",
              "      <td>A story of love, lava and burning desire.</td>\n",
              "    </tr>\n",
              "    <tr>\n",
              "      <th>24</th>\n",
              "      <td>RescueDawn</td>\n",
              "      <td>2006</td>\n",
              "      <td>Based on the extraordinary true story of one m...</td>\n",
              "    </tr>\n",
              "    <tr>\n",
              "      <th>25</th>\n",
              "      <td>What Dreams May Come</td>\n",
              "      <td>1998</td>\n",
              "      <td>After life there is more. The end is just the ...</td>\n",
              "    </tr>\n",
              "    <tr>\n",
              "      <th>26</th>\n",
              "      <td>Speed Racer</td>\n",
              "      <td>2008</td>\n",
              "      <td>Speed has no limits</td>\n",
              "    </tr>\n",
              "    <tr>\n",
              "      <th>27</th>\n",
              "      <td>One Flew Over the Cuckoo's Nest</td>\n",
              "      <td>1975</td>\n",
              "      <td>If he's crazy, what does that make you?</td>\n",
              "    </tr>\n",
              "    <tr>\n",
              "      <th>28</th>\n",
              "      <td>The Green Mile</td>\n",
              "      <td>1999</td>\n",
              "      <td>Walk a mile you'll never forget.</td>\n",
              "    </tr>\n",
              "    <tr>\n",
              "      <th>29</th>\n",
              "      <td>Frost/Nixon</td>\n",
              "      <td>2008</td>\n",
              "      <td>400 million people were waiting for the truth.</td>\n",
              "    </tr>\n",
              "    <tr>\n",
              "      <th>30</th>\n",
              "      <td>The Matrix Revolutions</td>\n",
              "      <td>2003</td>\n",
              "      <td>Everything that has a beginning has an end</td>\n",
              "    </tr>\n",
              "    <tr>\n",
              "      <th>31</th>\n",
              "      <td>The Devil's Advocate</td>\n",
              "      <td>1997</td>\n",
              "      <td>Evil has its winning ways</td>\n",
              "    </tr>\n",
              "    <tr>\n",
              "      <th>32</th>\n",
              "      <td>A League of Their Own</td>\n",
              "      <td>1992</td>\n",
              "      <td>Once in a lifetime you get a chance to do some...</td>\n",
              "    </tr>\n",
              "    <tr>\n",
              "      <th>33</th>\n",
              "      <td>Cloud Atlas</td>\n",
              "      <td>2012</td>\n",
              "      <td>Everything is connected</td>\n",
              "    </tr>\n",
              "    <tr>\n",
              "      <th>34</th>\n",
              "      <td>As Good as It Gets</td>\n",
              "      <td>1997</td>\n",
              "      <td>A comedy from the heart that goes for the throat.</td>\n",
              "    </tr>\n",
              "    <tr>\n",
              "      <th>35</th>\n",
              "      <td>Bicentennial Man</td>\n",
              "      <td>1999</td>\n",
              "      <td>One robot's 200 year journey to become an ordi...</td>\n",
              "    </tr>\n",
              "    <tr>\n",
              "      <th>36</th>\n",
              "      <td>You've Got Mail</td>\n",
              "      <td>1998</td>\n",
              "      <td>At odds in life... in love on-line.</td>\n",
              "    </tr>\n",
              "    <tr>\n",
              "      <th>37</th>\n",
              "      <td>Hoffa</td>\n",
              "      <td>1992</td>\n",
              "      <td>He didn't want law. He wanted justice.</td>\n",
              "    </tr>\n",
              "  </tbody>\n",
              "</table>\n",
              "</div>\n",
              "      <button class=\"colab-df-convert\" onclick=\"convertToInteractive('df-71abc6b3-7e58-4fce-a3a9-acaf00a359bb')\"\n",
              "              title=\"Convert this dataframe to an interactive table.\"\n",
              "              style=\"display:none;\">\n",
              "        \n",
              "  <svg xmlns=\"http://www.w3.org/2000/svg\" height=\"24px\"viewBox=\"0 0 24 24\"\n",
              "       width=\"24px\">\n",
              "    <path d=\"M0 0h24v24H0V0z\" fill=\"none\"/>\n",
              "    <path d=\"M18.56 5.44l.94 2.06.94-2.06 2.06-.94-2.06-.94-.94-2.06-.94 2.06-2.06.94zm-11 1L8.5 8.5l.94-2.06 2.06-.94-2.06-.94L8.5 2.5l-.94 2.06-2.06.94zm10 10l.94 2.06.94-2.06 2.06-.94-2.06-.94-.94-2.06-.94 2.06-2.06.94z\"/><path d=\"M17.41 7.96l-1.37-1.37c-.4-.4-.92-.59-1.43-.59-.52 0-1.04.2-1.43.59L10.3 9.45l-7.72 7.72c-.78.78-.78 2.05 0 2.83L4 21.41c.39.39.9.59 1.41.59.51 0 1.02-.2 1.41-.59l7.78-7.78 2.81-2.81c.8-.78.8-2.07 0-2.86zM5.41 20L4 18.59l7.72-7.72 1.47 1.35L5.41 20z\"/>\n",
              "  </svg>\n",
              "      </button>\n",
              "      \n",
              "  <style>\n",
              "    .colab-df-container {\n",
              "      display:flex;\n",
              "      flex-wrap:wrap;\n",
              "      gap: 12px;\n",
              "    }\n",
              "\n",
              "    .colab-df-convert {\n",
              "      background-color: #E8F0FE;\n",
              "      border: none;\n",
              "      border-radius: 50%;\n",
              "      cursor: pointer;\n",
              "      display: none;\n",
              "      fill: #1967D2;\n",
              "      height: 32px;\n",
              "      padding: 0 0 0 0;\n",
              "      width: 32px;\n",
              "    }\n",
              "\n",
              "    .colab-df-convert:hover {\n",
              "      background-color: #E2EBFA;\n",
              "      box-shadow: 0px 1px 2px rgba(60, 64, 67, 0.3), 0px 1px 3px 1px rgba(60, 64, 67, 0.15);\n",
              "      fill: #174EA6;\n",
              "    }\n",
              "\n",
              "    [theme=dark] .colab-df-convert {\n",
              "      background-color: #3B4455;\n",
              "      fill: #D2E3FC;\n",
              "    }\n",
              "\n",
              "    [theme=dark] .colab-df-convert:hover {\n",
              "      background-color: #434B5C;\n",
              "      box-shadow: 0px 1px 3px 1px rgba(0, 0, 0, 0.15);\n",
              "      filter: drop-shadow(0px 1px 2px rgba(0, 0, 0, 0.3));\n",
              "      fill: #FFFFFF;\n",
              "    }\n",
              "  </style>\n",
              "\n",
              "      <script>\n",
              "        const buttonEl =\n",
              "          document.querySelector('#df-71abc6b3-7e58-4fce-a3a9-acaf00a359bb button.colab-df-convert');\n",
              "        buttonEl.style.display =\n",
              "          google.colab.kernel.accessAllowed ? 'block' : 'none';\n",
              "\n",
              "        async function convertToInteractive(key) {\n",
              "          const element = document.querySelector('#df-71abc6b3-7e58-4fce-a3a9-acaf00a359bb');\n",
              "          const dataTable =\n",
              "            await google.colab.kernel.invokeFunction('convertToInteractive',\n",
              "                                                     [key], {});\n",
              "          if (!dataTable) return;\n",
              "\n",
              "          const docLinkHtml = 'Like what you see? Visit the ' +\n",
              "            '<a target=\"_blank\" href=https://colab.research.google.com/notebooks/data_table.ipynb>data table notebook</a>'\n",
              "            + ' to learn more about interactive tables.';\n",
              "          element.innerHTML = '';\n",
              "          dataTable['output_type'] = 'display_data';\n",
              "          await google.colab.output.renderOutput(dataTable, element);\n",
              "          const docLink = document.createElement('div');\n",
              "          docLink.innerHTML = docLinkHtml;\n",
              "          element.appendChild(docLink);\n",
              "        }\n",
              "      </script>\n",
              "    </div>\n",
              "  </div>\n",
              "  "
            ],
            "text/plain": [
              "                              title  ...                                            tagline\n",
              "0                        The Matrix  ...                          Welcome to the Real World\n",
              "1            Something's Gotta Give  ...                                                NaN\n",
              "2                    Ninja Assassin  ...       Prepare to enter a secret world of assassins\n",
              "3               The Matrix Reloaded  ...                                     Free your mind\n",
              "4                       Stand By Me  ...  For some, it's the last real taste of innocenc...\n",
              "5                      The Birdcage  ...                                    Come as you are\n",
              "6              Sleepless in Seattle  ...  What if someone you never met, someone you nev...\n",
              "7              Charlie Wilson's War  ...  A stiff drink. A little mascara. A lot of nerv...\n",
              "8                 The Polar Express  ...                       This Holiday Season… Believe\n",
              "9                 That Thing You Do  ...  In every life there comes a time when that thi...\n",
              "10           Snow Falling on Cedars  ...                         First loves last. Forever.\n",
              "11                   A Few Good Men  ...  In the heart of the nation's capital, in a cou...\n",
              "12                          Twister  ...                    Don't Breathe. Don't Look Back.\n",
              "13                        Apollo 13  ...                        Houston, we have a problem.\n",
              "14                       Unforgiven  ...              It's a hell of a thing, killing a man\n",
              "15                  Johnny Mnemonic  ...  The hottest data on earth. In the coolest head...\n",
              "16                        Cast Away  ...      At the edge of the world, his journey begins.\n",
              "17                    Jerry Maguire  ...                   The rest of his life begins now.\n",
              "18             When Harry Met Sally  ...                At odds in life... in love on-line.\n",
              "19                   V for Vendetta  ...                                  Freedom! Forever!\n",
              "20                 The Replacements  ...  Pain heals, Chicks dig scars... Glory lasts fo...\n",
              "21                The Da Vinci Code  ...                                    Break The Codes\n",
              "22                          Top Gun  ...               I feel the need, the need for speed.\n",
              "23           Joe Versus the Volcano  ...          A story of love, lava and burning desire.\n",
              "24                       RescueDawn  ...  Based on the extraordinary true story of one m...\n",
              "25             What Dreams May Come  ...  After life there is more. The end is just the ...\n",
              "26                      Speed Racer  ...                                Speed has no limits\n",
              "27  One Flew Over the Cuckoo's Nest  ...            If he's crazy, what does that make you?\n",
              "28                   The Green Mile  ...                   Walk a mile you'll never forget.\n",
              "29                      Frost/Nixon  ...     400 million people were waiting for the truth.\n",
              "30           The Matrix Revolutions  ...         Everything that has a beginning has an end\n",
              "31             The Devil's Advocate  ...                          Evil has its winning ways\n",
              "32            A League of Their Own  ...  Once in a lifetime you get a chance to do some...\n",
              "33                      Cloud Atlas  ...                            Everything is connected\n",
              "34               As Good as It Gets  ...  A comedy from the heart that goes for the throat.\n",
              "35                 Bicentennial Man  ...  One robot's 200 year journey to become an ordi...\n",
              "36                  You've Got Mail  ...                At odds in life... in love on-line.\n",
              "37                            Hoffa  ...             He didn't want law. He wanted justice.\n",
              "\n",
              "[38 rows x 3 columns]"
            ]
          },
          "metadata": {},
          "execution_count": 6
        }
      ],
      "source": [
        "# Use Pandas load movie CSV\n",
        "movies = pd.read_csv('https://data.neo4j.com/intro/movies/movies.csv')\n",
        "movies"
      ]
    },
    {
      "cell_type": "code",
      "execution_count": null,
      "metadata": {
        "id": "7Eyxti7yG8pS",
        "outputId": "354652fe-44ad-4963-dcf4-0ed4dc56c0ac",
        "colab": {
          "base_uri": "https://localhost:8080/",
          "height": 204
        }
      },
      "outputs": [
        {
          "output_type": "execute_result",
          "data": {
            "text/html": [
              "<div>\n",
              "<style scoped>\n",
              "    .dataframe tbody tr th:only-of-type {\n",
              "        vertical-align: middle;\n",
              "    }\n",
              "\n",
              "    .dataframe tbody tr th {\n",
              "        vertical-align: top;\n",
              "    }\n",
              "\n",
              "    .dataframe thead th {\n",
              "        text-align: right;\n",
              "    }\n",
              "</style>\n",
              "<table border=\"1\" class=\"dataframe\">\n",
              "  <thead>\n",
              "    <tr style=\"text-align: right;\">\n",
              "      <th></th>\n",
              "      <th>title</th>\n",
              "      <th>released</th>\n",
              "      <th>tagline</th>\n",
              "    </tr>\n",
              "  </thead>\n",
              "  <tbody>\n",
              "    <tr>\n",
              "      <th>0</th>\n",
              "      <td>The Matrix</td>\n",
              "      <td>1999</td>\n",
              "      <td>Welcome to the Real World</td>\n",
              "    </tr>\n",
              "    <tr>\n",
              "      <th>1</th>\n",
              "      <td>Something's Gotta Give</td>\n",
              "      <td>1975</td>\n",
              "      <td>NaN</td>\n",
              "    </tr>\n",
              "    <tr>\n",
              "      <th>2</th>\n",
              "      <td>Ninja Assassin</td>\n",
              "      <td>2009</td>\n",
              "      <td>Prepare to enter a secret world of assassins</td>\n",
              "    </tr>\n",
              "    <tr>\n",
              "      <th>3</th>\n",
              "      <td>The Matrix Reloaded</td>\n",
              "      <td>2003</td>\n",
              "      <td>Free your mind</td>\n",
              "    </tr>\n",
              "    <tr>\n",
              "      <th>4</th>\n",
              "      <td>Stand By Me</td>\n",
              "      <td>1995</td>\n",
              "      <td>For some, it's the last real taste of innocenc...</td>\n",
              "    </tr>\n",
              "  </tbody>\n",
              "</table>\n",
              "</div>"
            ],
            "text/plain": [
              "                    title  ...                                            tagline\n",
              "0              The Matrix  ...                          Welcome to the Real World\n",
              "1  Something's Gotta Give  ...                                                NaN\n",
              "2          Ninja Assassin  ...       Prepare to enter a secret world of assassins\n",
              "3     The Matrix Reloaded  ...                                     Free your mind\n",
              "4             Stand By Me  ...  For some, it's the last real taste of innocenc...\n",
              "\n",
              "[5 rows x 3 columns]"
            ]
          },
          "metadata": {},
          "execution_count": 111
        }
      ],
      "source": [
        "# Display head rows\n",
        "movies.head()"
      ]
    },
    {
      "cell_type": "code",
      "source": [
        "# Display movie size\n",
        "print(movies.size)"
      ],
      "metadata": {
        "colab": {
          "base_uri": "https://localhost:8080/"
        },
        "id": "BenOCFuDlILy",
        "outputId": "7f27f366-b9fb-4c26-ad55-5cdaa947d6d7"
      },
      "execution_count": null,
      "outputs": [
        {
          "output_type": "stream",
          "name": "stdout",
          "text": [
            "114\n"
          ]
        }
      ]
    },
    {
      "cell_type": "code",
      "execution_count": null,
      "metadata": {
        "collapsed": true,
        "id": "16AJkFVAG8pT",
        "colab": {
          "base_uri": "https://localhost:8080/"
        },
        "outputId": "faa01606-ca3a-4adb-f061-29187084db95"
      },
      "outputs": [
        {
          "output_type": "stream",
          "name": "stdout",
          "text": [
            "<class 'pandas.core.series.Series'>\n"
          ]
        }
      ],
      "source": [
        "# Convert title and tag line to string value\n",
        "movies['title'] = movies['title'].fillna(\"\").astype('str')\n",
        "movies['tagline'] = movies['tagline'].fillna(\"\").astype('str')\n",
        "movies.head()\n",
        "\n",
        "# Set up title array\n",
        "titles = movies['title']"
      ]
    },
    {
      "cell_type": "markdown",
      "metadata": {
        "id": "HlSZ_NGfG8pY"
      },
      "source": [
        "# Recommend Movie Based on Title"
      ]
    },
    {
      "cell_type": "code",
      "execution_count": null,
      "metadata": {
        "id": "weQTL6XOG8pY",
        "outputId": "50186ff3-6a37-4008-e862-f8a4f5364a42",
        "colab": {
          "base_uri": "https://localhost:8080/"
        }
      },
      "outputs": [
        {
          "output_type": "stream",
          "name": "stdout",
          "text": [
            "The Matrix\n"
          ]
        }
      ],
      "source": [
        "# Convert the title in 2-gram words excluding the stopwords, for example 'a', 'and', 'the', and etc.\n",
        "tf = TfidfVectorizer(analyzer='word', ngram_range=(1, 2), min_df=0, stop_words='english')\n",
        "\n",
        "tfidf_matrix = tf.fit_transform(titles)\n",
        "tfidf_matrix.shape\n",
        "\n",
        "# Print out the first movie\n",
        "#print(tfidf_matrix)\n",
        "print(movies.loc[:].values[0][0])"
      ]
    },
    {
      "cell_type": "code",
      "source": [
        "![Cosine Similarity](\"https://neo4j.com/docs/graph-data-science/current/_images/cosine-similarity.png\")\n",
        "from IPython.display import Image\n",
        "from IPython.core.display import HTML \n",
        "Image(url= \"https://neo4j.com/docs/graph-data-science/current/_images/cosine-similarity.png\")"
      ],
      "metadata": {
        "colab": {
          "base_uri": "https://localhost:8080/",
          "height": 263
        },
        "id": "cKUB7l_ZvavK",
        "outputId": "f836d6ce-2aa9-4d3a-95a5-d41f104e7bfb"
      },
      "execution_count": null,
      "outputs": [
        {
          "output_type": "stream",
          "name": "stdout",
          "text": [
            "/bin/bash: -c: line 0: syntax error near unexpected token `('\n",
            "/bin/bash: -c: line 0: `[Cosine Similarity](\"https://neo4j.com/docs/graph-data-science/current/_images/cosine-similarity.png\")'\n"
          ]
        },
        {
          "output_type": "execute_result",
          "data": {
            "text/html": [
              "<img src=\"https://neo4j.com/docs/graph-data-science/current/_images/cosine-similarity.png\"/>"
            ],
            "text/plain": [
              "<IPython.core.display.Image object>"
            ]
          },
          "metadata": {},
          "execution_count": 119
        }
      ]
    },
    {
      "cell_type": "code",
      "execution_count": null,
      "metadata": {
        "id": "ivZ4OMGcG8pZ",
        "outputId": "718e2e9f-89fc-4247-b5b4-048842436007",
        "colab": {
          "base_uri": "https://localhost:8080/"
        }
      },
      "outputs": [
        {
          "output_type": "stream",
          "name": "stdout",
          "text": [
            "[1.         0.         0.         0.50408245 0.         0.\n",
            " 0.         0.         0.         0.         0.         0.\n",
            " 0.         0.         0.         0.         0.         0.\n",
            " 0.         0.         0.         0.         0.         0.\n",
            " 0.         0.         0.         0.         0.         0.\n",
            " 0.50408245 0.         0.         0.         0.         0.\n",
            " 0.         0.        ]\n"
          ]
        }
      ],
      "source": [
        "# Calculate Cosine similarity score from vector\n",
        "cosine_similarity_mx = cosine_similarity(tfidf_matrix, tfidf_matrix)\n",
        "cosine_similarity_mx[:8, :8]\n",
        "print(cosine_similarity_mx[0])"
      ]
    },
    {
      "cell_type": "code",
      "execution_count": null,
      "metadata": {
        "collapsed": true,
        "id": "Cq327NB0G8pZ"
      },
      "outputs": [],
      "source": [
        "# Build a one-dimension Pandas series with movie titles\n",
        "indices = pd.Series(movies.index, index=titles)\n",
        "#print(indices)\n",
        "\n",
        "# Function that get movie recommendations based on the cosine similarity score of movie genres\n",
        "def recommend_movie_by_title(title, number_of_movie):\n",
        "    idx = indices[title]\n",
        "    #print(str(cosine_similarity_mx[idx].size))\n",
        "    # Get Cosine similarity score from numpy into a list\n",
        "    # [(0, 1.0), (1, 0.0), (2, 0.0), (3, 0.5040824532793767), (30, 0.5040824532793767), ...]\n",
        "    similarity_scores = list(enumerate(cosine_similarity_mx[idx]))\n",
        "\n",
        "    # Sort the score (ss[1]) in reversed order\n",
        "    # [(0, 1.0)\n",
        "    # (3, 0.5040824532793767)\n",
        "    # (30, 0.5040824532793767) ...]\n",
        "    similarity_scores = sorted(similarity_scores, key=lambda ss: ss[1], reverse=True)\n",
        "\n",
        "    # The top one is the movie itself, remove it\n",
        "    # [\n",
        "    # (3, 0.5040824532793767)\n",
        "    # (30, 0.5040824532793767) ...]\n",
        "    similarity_scores = similarity_scores[1:number_of_movie]\n",
        "\n",
        "    # Get the movie indeces (ss[0]) from similarity score\n",
        "    movie_indices = [ss[0] for ss in similarity_scores]\n",
        "    return titles.iloc[movie_indices]"
      ]
    },
    {
      "cell_type": "code",
      "execution_count": null,
      "metadata": {
        "id": "Za-i09PgG8pa",
        "outputId": "b4e1ea82-3cad-4bb8-f8be-382a6ba91dbf",
        "colab": {
          "base_uri": "https://localhost:8080/"
        }
      },
      "outputs": [
        {
          "output_type": "execute_result",
          "data": {
            "text/plain": [
              "3        The Matrix Reloaded\n",
              "30    The Matrix Revolutions\n",
              "1     Something's Gotta Give\n",
              "2             Ninja Assassin\n",
              "Name: title, dtype: object"
            ]
          },
          "metadata": {},
          "execution_count": 117
        }
      ],
      "source": [
        "recommend_movie_by_title('The Matrix', 5).head(5)"
      ]
    }
  ],
  "metadata": {
    "kernelspec": {
      "display_name": "Python 3",
      "language": "python",
      "name": "python3"
    },
    "language_info": {
      "codemirror_mode": {
        "name": "ipython",
        "version": 3
      },
      "file_extension": ".py",
      "mimetype": "text/x-python",
      "name": "python",
      "nbconvert_exporter": "python",
      "pygments_lexer": "ipython3",
      "version": "3.6.3"
    },
    "colab": {
      "name": "BISV-Graph-AI-Club-Content-Based-Recommendation.ipynb",
      "provenance": [],
      "collapsed_sections": []
    }
  },
  "nbformat": 4,
  "nbformat_minor": 0
}